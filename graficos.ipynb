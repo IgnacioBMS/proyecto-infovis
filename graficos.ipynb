{
 "cells": [
  {
   "cell_type": "code",
   "execution_count": 3,
   "metadata": {},
   "outputs": [],
   "source": [
    "import pandas as pd\n",
    "import matplotlib.pyplot as plt"
   ]
  },
  {
   "cell_type": "code",
   "execution_count": 2,
   "metadata": {},
   "outputs": [
    {
     "data": {
      "text/html": [
       "<div>\n",
       "<style scoped>\n",
       "    .dataframe tbody tr th:only-of-type {\n",
       "        vertical-align: middle;\n",
       "    }\n",
       "\n",
       "    .dataframe tbody tr th {\n",
       "        vertical-align: top;\n",
       "    }\n",
       "\n",
       "    .dataframe thead th {\n",
       "        text-align: right;\n",
       "    }\n",
       "</style>\n",
       "<table border=\"1\" class=\"dataframe\">\n",
       "  <thead>\n",
       "    <tr style=\"text-align: right;\">\n",
       "      <th></th>\n",
       "      <th>Name</th>\n",
       "      <th>Battery_kWh</th>\n",
       "      <th>Acceleration_sec</th>\n",
       "      <th>TopSpeed_kmh</th>\n",
       "      <th>Range_km</th>\n",
       "      <th>Efficiency_Whkm</th>\n",
       "      <th>NumberofSeats</th>\n",
       "      <th>PriceinEurope</th>\n",
       "      <th>Score</th>\n",
       "    </tr>\n",
       "  </thead>\n",
       "  <tbody>\n",
       "    <tr>\n",
       "      <th>0</th>\n",
       "      <td>Smart EQ fortwo coupe</td>\n",
       "      <td>16.7</td>\n",
       "      <td>11.6</td>\n",
       "      <td>130.0</td>\n",
       "      <td>100.0</td>\n",
       "      <td>167.0</td>\n",
       "      <td>2</td>\n",
       "      <td>18460</td>\n",
       "      <td>0.319694</td>\n",
       "    </tr>\n",
       "    <tr>\n",
       "      <th>1</th>\n",
       "      <td>Smart EQ forfour</td>\n",
       "      <td>16.7</td>\n",
       "      <td>12.7</td>\n",
       "      <td>130.0</td>\n",
       "      <td>95.0</td>\n",
       "      <td>176.0</td>\n",
       "      <td>4</td>\n",
       "      <td>19120</td>\n",
       "      <td>0.317968</td>\n",
       "    </tr>\n",
       "    <tr>\n",
       "      <th>2</th>\n",
       "      <td>Smart EQ fortwo cabrio</td>\n",
       "      <td>16.7</td>\n",
       "      <td>11.9</td>\n",
       "      <td>130.0</td>\n",
       "      <td>95.0</td>\n",
       "      <td>176.0</td>\n",
       "      <td>2</td>\n",
       "      <td>21720</td>\n",
       "      <td>0.307582</td>\n",
       "    </tr>\n",
       "    <tr>\n",
       "      <th>3</th>\n",
       "      <td>Fiat 500e Hatchback 24 kWh</td>\n",
       "      <td>23.8</td>\n",
       "      <td>9.5</td>\n",
       "      <td>135.0</td>\n",
       "      <td>165.0</td>\n",
       "      <td>144.0</td>\n",
       "      <td>4</td>\n",
       "      <td>23560</td>\n",
       "      <td>0.385089</td>\n",
       "    </tr>\n",
       "    <tr>\n",
       "      <th>4</th>\n",
       "      <td>Fiat 500e Hatchback 42 kWh</td>\n",
       "      <td>37.3</td>\n",
       "      <td>9.0</td>\n",
       "      <td>150.0</td>\n",
       "      <td>250.0</td>\n",
       "      <td>149.0</td>\n",
       "      <td>4</td>\n",
       "      <td>27560</td>\n",
       "      <td>0.418001</td>\n",
       "    </tr>\n",
       "    <tr>\n",
       "      <th>...</th>\n",
       "      <td>...</td>\n",
       "      <td>...</td>\n",
       "      <td>...</td>\n",
       "      <td>...</td>\n",
       "      <td>...</td>\n",
       "      <td>...</td>\n",
       "      <td>...</td>\n",
       "      <td>...</td>\n",
       "      <td>...</td>\n",
       "    </tr>\n",
       "    <tr>\n",
       "      <th>122</th>\n",
       "      <td>Porsche Taycan Turbo</td>\n",
       "      <td>83.7</td>\n",
       "      <td>3.2</td>\n",
       "      <td>260.0</td>\n",
       "      <td>400.0</td>\n",
       "      <td>209.0</td>\n",
       "      <td>4</td>\n",
       "      <td>153016</td>\n",
       "      <td>0.429487</td>\n",
       "    </tr>\n",
       "    <tr>\n",
       "      <th>123</th>\n",
       "      <td>Porsche Taycan Turbo Cross Turismo</td>\n",
       "      <td>83.7</td>\n",
       "      <td>3.3</td>\n",
       "      <td>250.0</td>\n",
       "      <td>385.0</td>\n",
       "      <td>217.0</td>\n",
       "      <td>4</td>\n",
       "      <td>154444</td>\n",
       "      <td>0.415777</td>\n",
       "    </tr>\n",
       "    <tr>\n",
       "      <th>124</th>\n",
       "      <td>Porsche Taycan Turbo S</td>\n",
       "      <td>83.7</td>\n",
       "      <td>2.8</td>\n",
       "      <td>260.0</td>\n",
       "      <td>390.0</td>\n",
       "      <td>215.0</td>\n",
       "      <td>4</td>\n",
       "      <td>186336</td>\n",
       "      <td>0.402250</td>\n",
       "    </tr>\n",
       "    <tr>\n",
       "      <th>125</th>\n",
       "      <td>Porsche Taycan Turbo S Cross Turismo</td>\n",
       "      <td>83.7</td>\n",
       "      <td>2.9</td>\n",
       "      <td>250.0</td>\n",
       "      <td>380.0</td>\n",
       "      <td>220.0</td>\n",
       "      <td>4</td>\n",
       "      <td>187746</td>\n",
       "      <td>0.391977</td>\n",
       "    </tr>\n",
       "    <tr>\n",
       "      <th>126</th>\n",
       "      <td>Tesla Roadster</td>\n",
       "      <td>200.0</td>\n",
       "      <td>2.1</td>\n",
       "      <td>410.0</td>\n",
       "      <td>970.0</td>\n",
       "      <td>206.0</td>\n",
       "      <td>4</td>\n",
       "      <td>215000</td>\n",
       "      <td>0.666952</td>\n",
       "    </tr>\n",
       "  </tbody>\n",
       "</table>\n",
       "<p>127 rows × 9 columns</p>\n",
       "</div>"
      ],
      "text/plain": [
       "                                     Name  Battery_kWh  Acceleration_sec  \\\n",
       "0                   Smart EQ fortwo coupe         16.7              11.6   \n",
       "1                       Smart EQ forfour          16.7              12.7   \n",
       "2                  Smart EQ fortwo cabrio         16.7              11.9   \n",
       "3              Fiat 500e Hatchback 24 kWh         23.8               9.5   \n",
       "4              Fiat 500e Hatchback 42 kWh         37.3               9.0   \n",
       "..                                    ...          ...               ...   \n",
       "122                  Porsche Taycan Turbo         83.7               3.2   \n",
       "123    Porsche Taycan Turbo Cross Turismo         83.7               3.3   \n",
       "124                Porsche Taycan Turbo S         83.7               2.8   \n",
       "125  Porsche Taycan Turbo S Cross Turismo         83.7               2.9   \n",
       "126                       Tesla Roadster         200.0               2.1   \n",
       "\n",
       "     TopSpeed_kmh  Range_km  Efficiency_Whkm  NumberofSeats  PriceinEurope  \\\n",
       "0           130.0     100.0            167.0              2          18460   \n",
       "1           130.0      95.0            176.0              4          19120   \n",
       "2           130.0      95.0            176.0              2          21720   \n",
       "3           135.0     165.0            144.0              4          23560   \n",
       "4           150.0     250.0            149.0              4          27560   \n",
       "..            ...       ...              ...            ...            ...   \n",
       "122         260.0     400.0            209.0              4         153016   \n",
       "123         250.0     385.0            217.0              4         154444   \n",
       "124         260.0     390.0            215.0              4         186336   \n",
       "125         250.0     380.0            220.0              4         187746   \n",
       "126         410.0     970.0            206.0              4         215000   \n",
       "\n",
       "        Score  \n",
       "0    0.319694  \n",
       "1    0.317968  \n",
       "2    0.307582  \n",
       "3    0.385089  \n",
       "4    0.418001  \n",
       "..        ...  \n",
       "122  0.429487  \n",
       "123  0.415777  \n",
       "124  0.402250  \n",
       "125  0.391977  \n",
       "126  0.666952  \n",
       "\n",
       "[127 rows x 9 columns]"
      ]
     },
     "execution_count": 2,
     "metadata": {},
     "output_type": "execute_result"
    }
   ],
   "source": [
    "df = pd.read_csv('database.csv')\n",
    "df"
   ]
  },
  {
   "cell_type": "code",
   "execution_count": 7,
   "metadata": {},
   "outputs": [],
   "source": [
    "X = df['PriceinEurope']\n",
    "Y_speed = df['TopSpeed_kmh']\n",
    "Y_acceleration = df['Acceleration_sec']\n",
    "Y_range = df['Range_km']"
   ]
  },
  {
   "cell_type": "code",
   "execution_count": 14,
   "metadata": {},
   "outputs": [
    {
     "data": {
      "image/png": "[encoded data removed]",
      "text/plain": [
       "<Figure size 432x288 with 1 Axes>"
      ]
     },
     "metadata": {
      "needs_background": "light"
     },
     "output_type": "display_data"
    }
   ],
   "source": [
    "plt.scatter(X, Y_speed)\n",
    "plt.title('TopSpeed vs Price')\n",
    "plt.xlabel('Price')\n",
    "plt.ylabel('TopSpeed')\n",
    "#plt.grid(True)\n",
    "plt.show()"
   ]
  },
  {
   "cell_type": "code",
   "execution_count": 15,
   "metadata": {},
   "outputs": [
    {
     "data": {
      "image/png": "[encoded data removed]",
      "text/plain": [
       "<Figure size 432x288 with 1 Axes>"
      ]
     },
     "metadata": {
      "needs_background": "light"
     },
     "output_type": "display_data"
    }
   ],
   "source": [
    "plt.scatter(X, Y_acceleration)\n",
    "plt.title('Acceleration vs Price')\n",
    "plt.xlabel('Price')\n",
    "plt.ylabel('Acceleration')\n",
    "#plt.grid(True)\n",
    "plt.show()"
   ]
  },
  {
   "cell_type": "code",
   "execution_count": 16,
   "metadata": {},
   "outputs": [
    {
     "data": {
      "image/png": "[encoded data removed]",
      "text/plain": [
       "<Figure size 432x288 with 1 Axes>"
      ]
     },
     "metadata": {
      "needs_background": "light"
     },
     "output_type": "display_data"
    }
   ],
   "source": [
    "plt.scatter(X, Y_range)\n",
    "plt.title('Range vs Price')\n",
    "plt.xlabel('Price')\n",
    "plt.ylabel('Acceleration')\n",
    "#plt.grid(True)\n",
    "plt.show()"
   ]
  },
  {
   "cell_type": "code",
   "execution_count": 45,
   "metadata": {},
   "outputs": [],
   "source": [
    "df_sorted = df.sort_values(by='TopSpeed_kmh', ascending=False)\n",
    "modelos = df_sorted['Name'][0:9]\n",
    "top_speed = df_sorted['TopSpeed_kmh'][0:9]\n",
    "price = df_sorted['PriceinEurope'][0:9]"
   ]
  },
  {
   "cell_type": "code",
   "execution_count": 44,
   "metadata": {},
   "outputs": [
    {
     "data": {
      "image/png": "[encoded data removed]",
      "text/plain": [
       "<Figure size 720x432 with 1 Axes>"
      ]
     },
     "metadata": {
      "needs_background": "light"
     },
     "output_type": "display_data"
    }
   ],
   "source": [
    "# Crear la figura y los subplots\n",
    "plt.figure(figsize=(14, 8))\n",
    "\n",
    "# Primer subplot - Velocidad\n",
    "plt.subplot(2, 1, 1)  # 2 filas, 1 columna, 1er gráfico\n",
    "plt.bar(modelos, top_speed, color='blue')\n",
    "plt.title('Velocidad Máxima por Modelo de Auto')\n",
    "plt.xlabel('Modelo de Auto')\n",
    "plt.ylabel('Velocidad Máxima (TopSpeed)')\n",
    "plt.xticks(rotation=90)\n",
    "plt.grid(True)\n",
    "\n",
    "# Segundo subplot - Precio\n",
    "plt.subplot(2, 1, 2)  # 2 filas, 1 columna, 2do gráfico\n",
    "plt.bar(modelos, price, color='green')\n",
    "plt.title('Precio por Modelo de Auto')\n",
    "plt.xlabel('Modelo de Auto')\n",
    "plt.ylabel('Precio')\n",
    "plt.xticks(rotation=90)\n",
    "plt.grid(True)\n",
    "\n",
    "# Ajustar el layout para evitar superposiciones\n",
    "plt.tight_layout()\n",
    "\n",
    "# Mostrar la gráfica\n",
    "plt.show()"
   ]
  },
  {
   "cell_type": "code",
   "execution_count": null,
   "metadata": {},
   "outputs": [],
   "source": []
  }
 ],
 "metadata": {
  "kernelspec": {
   "display_name": "Python 3",
   "language": "python",
   "name": "python3"
  },
  "language_info": {
   "codemirror_mode": {
    "name": "ipython",
    "version": 3
   },
   "file_extension": ".py",
   "mimetype": "text/x-python",
   "name": "python",
   "nbconvert_exporter": "python",
   "pygments_lexer": "ipython3",
   "version": "3.9.12"
  }
 },
 "nbformat": 4,
 "nbformat_minor": 2
}
